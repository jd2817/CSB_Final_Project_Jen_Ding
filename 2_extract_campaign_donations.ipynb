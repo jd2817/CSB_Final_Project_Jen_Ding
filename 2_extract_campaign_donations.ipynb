{
 "cells": [
  {
   "cell_type": "markdown",
   "metadata": {
    "collapsed": true
   },
   "source": [
    "Part 2:\n",
    "\n",
    "This script downloads all the donation information from individual saved html files. It will extract the information into 3 lists: donation_amount, candidate, and zipcode. These three lists will be combined into one master list called master_list_extract. This master list will be written into a text file called master_list_all_files."
   ]
  },
  {
   "cell_type": "code",
   "execution_count": 34,
   "metadata": {
    "collapsed": true
   },
   "outputs": [],
   "source": [
    "#import necessary packages \n",
    "\n",
    "import pandas as pd\n",
    "import re\n",
    "import csv\n",
    "from bs4 import BeautifulSoup\n",
    "import os"
   ]
  },
  {
   "cell_type": "code",
   "execution_count": 35,
   "metadata": {
    "collapsed": false
   },
   "outputs": [],
   "source": [
    "#Make a function that opens the stored html files, make lists of donation amount, candidate names, and zipcodes\n",
    "#Write 3 lists into a master list called master_list_extract \n",
    "\n",
    "\n",
    "def extract_data(fname):    \n",
    "    #show progress of processing html files \n",
    "    print('processing', fname)\n",
    "    \n",
    "    #read html files\n",
    "    with open (fname, 'rb') as f: \n",
    "        html = f.read()\n",
    "\n",
    "    soup = BeautifulSoup(html, 'html.parser')\n",
    "\n",
    "    #make list for donation amounts \n",
    "    donation_amount_list = []\n",
    "    for tag1 in soup.find_all(\"td\", {\"style\": \"text-align:right;\"}):\n",
    "        donation_amount_list.append(tag1.text)\n",
    "\n",
    "    #make list for candidate names \n",
    "    candidate_list = []\n",
    "    for tag in soup.find_all(\"a\", {\"title\" : \"Click Here to View Contribution Summary\"}):\n",
    "        candidate_list.append(tag.text)\n",
    "\n",
    "    #use regular expressions to find the zip codes of the donations \n",
    "    temp_loc = []\n",
    "    zip_list = []\n",
    "    for tag in soup.find_all(\"td\"):\n",
    "        temp_loc.append(tag.text)\n",
    "    zip_list = re.findall((r'\\d\\d\\d\\d\\d|XXXXX|ZZZZZ'), str(temp_loc) ) \n",
    "\n",
    "    temp_list = []\n",
    "    master_list_extract = []\n",
    "\n",
    "    #put 3 lists into a master list called master_list_extract \n",
    "    for i in range(0, len(candidate_list)):\n",
    "        temp_list= [(candidate_list[i]), (donation_amount_list[i]), (zip_list[i])]   \n",
    "        master_list_extract.append(temp_list)\n",
    "\n",
    "    return master_list_extract\n"
   ]
  },
  {
   "cell_type": "code",
   "execution_count": 38,
   "metadata": {
    "collapsed": false
   },
   "outputs": [
    {
     "name": "stdout",
     "output_type": "stream",
     "text": [
      "processing campaign_finance/1.html\n",
      "1.html\n",
      "processing campaign_finance/2.html\n",
      "2.html\n",
      "processing campaign_finance/3.html\n",
      "3.html\n",
      "processing campaign_finance/4.html\n",
      "4.html\n",
      "processing campaign_finance/5.html\n",
      "5.html\n",
      "processing campaign_finance/6.html\n",
      "6.html\n",
      "processing campaign_finance/7.html\n",
      "7.html\n",
      "processing campaign_finance/8.html\n",
      "8.html\n",
      "processing campaign_finance/9.html\n",
      "9.html\n"
     ]
    }
   ],
   "source": [
    "#open all the html files in campaign finance folder and write results into one master file called master_list_all_files_test. \n",
    "#Write 3 columns: candidate, donation_amount, donation_location into master_list_all_files_test\n",
    "\n",
    "all_files = os.listdir('campaign_finance/')\n",
    "\n",
    "with open ('../CSB_Final_Project_Jen_Ding-master/master_list_all_files_test', 'w') as file:\n",
    "    writer = csv.writer(file)\n",
    "    writer.writerow(['candidate', 'donation_amount', 'donation_location'])\n",
    "    for f in all_files:\n",
    "        res = extract_data('campaign_finance/' + f)\n",
    "        print(f)\n",
    "        for r in res:\n",
    "            writer.writerow(r)"
   ]
  },
  {
   "cell_type": "code",
   "execution_count": null,
   "metadata": {
    "collapsed": true
   },
   "outputs": [],
   "source": []
  }
 ],
 "metadata": {
  "kernelspec": {
   "display_name": "Python 3",
   "language": "python",
   "name": "python3"
  },
  "language_info": {
   "codemirror_mode": {
    "name": "ipython",
    "version": 3
   },
   "file_extension": ".py",
   "mimetype": "text/x-python",
   "name": "python",
   "nbconvert_exporter": "python",
   "pygments_lexer": "ipython3",
   "version": "3.6.0"
  }
 },
 "nbformat": 4,
 "nbformat_minor": 2
}
