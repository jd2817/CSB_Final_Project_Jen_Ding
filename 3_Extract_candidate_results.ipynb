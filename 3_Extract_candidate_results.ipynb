{
 "cells": [
  {
   "cell_type": "markdown",
   "metadata": {},
   "source": [
    "Part 3:\n",
    "\n",
    "This python script opens up the Statewide Results spreadsheet I found on the governmental website. I am extracting the position of the govermental seats that the candidates are running for and storing them as the keys to the dictionaries. Then, I am extracting information about the winning and losing candidates, and they become the values to the dictionaries. \n",
    "\n",
    "Then, I write 2 text files that contain information for the winning candidates and the losing candidates. "
   ]
  },
  {
   "cell_type": "code",
   "execution_count": 16,
   "metadata": {
    "collapsed": true
   },
   "outputs": [],
   "source": [
    "# import necessary packages\n",
    "import csv\n",
    "import re"
   ]
  },
  {
   "cell_type": "code",
   "execution_count": 18,
   "metadata": {
    "collapsed": false
   },
   "outputs": [],
   "source": [
    "#open csv files of Statewide results \n",
    "with open('../CSB_Final_Project_Jen_Ding-master/Statewide_Results_All_Offices.csv') as f: \n",
    "    reader = csv.DictReader(f)\n",
    "    reader2 = csv.reader(f)\n",
    "   \n",
    "    #initiate dictionaries \n",
    "    winner_dict = {}\n",
    "    loser_dict = {}\n",
    "    \n",
    "    \n",
    "    for r in reader2:\n",
    "    \n",
    "        #if there is something in column 2 (this column lists the government seat), then initiate winner_list and loser_list \n",
    "        #also, the government seat in column 2 will become the key in the dictionary. The winning and losing candidates are the values \n",
    "        if r[1]:                                   \n",
    "            position = r[1]\n",
    "            winner_list = []\n",
    "            loser_list = []\n",
    "            winner_dict[position] = winner_list\n",
    "            loser_dict[position] = loser_list\n",
    "            \n",
    "           \n",
    "        #if there is a designation of \"Winner\" in the first column, append the winner first and last names to winner_list\n",
    "        if r[0] == \"Winner\":\n",
    "            winner_temp = r[5] \n",
    "            winner_lastname = winner_temp.split()[-1]\n",
    "            winner_firstname = winner_temp.split()[0]\n",
    "            winner = winner_lastname + ', ' + winner_firstname \n",
    "            winner_list.append(winner)\n",
    "        \n",
    "        #if there is not a designation of \"Winner in the first column, and there is something in the fourth column, \n",
    "        #append the loser first and last names to loser_list \n",
    "        if r[0] != \"Winner\" and r[3]:\n",
    "            loser_temp = r[5]\n",
    "            loser_lastname = loser_temp.split()[-1]\n",
    "            loser_firstname = loser_temp.split()[0]\n",
    "            loser = loser_lastname + ', ' + loser_firstname \n",
    "            loser_list.append(loser)\n",
    "        \n",
    "        #write a text file with the winning dictionary information. The governmental position is the key, and the winning candidate is the value \n",
    "        w = csv.writer(open(\"../CSB_Final_Project_Jen_Ding-master/winner_dict2.csv\", \"w\"))\n",
    "        for key, val in winner_dict.items():\n",
    "            w.writerow([key, val])\n",
    "        \n",
    "        #write a text file with the losing dictionary information. The governmental position is the key, and the losing candidate is the value \n",
    "        w = csv.writer(open(\"../CSB_Final_Project_Jen_Ding-master/loser_dict2.csv\", \"w\"))\n",
    "        for key, val in loser_dict.items():\n",
    "            w.writerow([key, val])\n",
    "    "
   ]
  },
  {
   "cell_type": "code",
   "execution_count": null,
   "metadata": {
    "collapsed": true
   },
   "outputs": [],
   "source": []
  }
 ],
 "metadata": {
  "kernelspec": {
   "display_name": "Python 3",
   "language": "python",
   "name": "python3"
  },
  "language_info": {
   "codemirror_mode": {
    "name": "ipython",
    "version": 3
   },
   "file_extension": ".py",
   "mimetype": "text/x-python",
   "name": "python",
   "nbconvert_exporter": "python",
   "pygments_lexer": "ipython3",
   "version": "3.6.0"
  }
 },
 "nbformat": 4,
 "nbformat_minor": 2
}
